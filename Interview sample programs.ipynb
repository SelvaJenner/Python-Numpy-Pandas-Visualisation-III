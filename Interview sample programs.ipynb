{
 "cells": [
  {
   "cell_type": "code",
   "execution_count": 19,
   "id": "9e3e1a1b",
   "metadata": {},
   "outputs": [
    {
     "name": "stdout",
     "output_type": "stream",
     "text": [
      "0 1 1 2 3 5 8 13 "
     ]
    }
   ],
   "source": [
    "#fibonacci series\n",
    "n1 = 0\n",
    "n2 = 1\n",
    "z = 8\n",
    "print(n1,n2, end =' ')\n",
    "z=z-2\n",
    "while z>0:\n",
    "    temp = n2\n",
    "    n2 = n1 + n2\n",
    "    n1 = temp\n",
    "    z -= 1\n",
    "    print(n2, end= ' ')"
   ]
  },
  {
   "cell_type": "code",
   "execution_count": 16,
   "id": "57a49dc4",
   "metadata": {},
   "outputs": [
    {
     "name": "stdout",
     "output_type": "stream",
     "text": [
      "0 1 1 2 3 5 8 13 "
     ]
    }
   ],
   "source": [
    "def PrintFibonacci(first, second, length):\n",
    "    if second == 1:\n",
    "        print(first, end = ' ')\n",
    "        length -=1\n",
    "\n",
    "    #Stop the printing and recursive calling if length reaches \n",
    "    #the end.\n",
    "    if(length == 0):\n",
    "        return\n",
    "\n",
    "    #Printng the next Fibonacci number.\n",
    "    print(first + second, end=\" \")\n",
    "\n",
    "    #Recursively calling the function by updating the value and \n",
    "    #decrementing the length.\n",
    "    PrintFibonacci(second, first+second, length-1)\n",
    "    \n",
    "PrintFibonacci(0,1,8)"
   ]
  },
  {
   "cell_type": "code",
   "execution_count": 15,
   "id": "7aab1aaf",
   "metadata": {},
   "outputs": [
    {
     "name": "stdout",
     "output_type": "stream",
     "text": [
      "Enter the number of terms: 8\n",
      "0 1 1 2 3 5 8 13 "
     ]
    }
   ],
   "source": [
    "n = int(input(\"Enter the number of terms: \"))\n",
    "\n",
    "# initialize the first two terms\n",
    "a, b = 0, 1\n",
    "\n",
    "# use a for loop to generate and print each term\n",
    "for i in range(n):\n",
    "    print(a, end = ' ')\n",
    "    # calculate the next term\n",
    "    a, b = b, a + b"
   ]
  },
  {
   "cell_type": "code",
   "execution_count": 14,
   "id": "d66659b7",
   "metadata": {},
   "outputs": [
    {
     "name": "stdout",
     "output_type": "stream",
     "text": [
      "Term is 8\n",
      "0 1 1 2 3 5 8 13 "
     ]
    }
   ],
   "source": [
    "n =int(input('Term is '))\n",
    "a,b = 0,1\n",
    "for i in range(n):\n",
    "    print(a, end = ' ')\n",
    "    a,b = b, a + b"
   ]
  },
  {
   "cell_type": "code",
   "execution_count": 20,
   "id": "1ec57ab6",
   "metadata": {},
   "outputs": [
    {
     "name": "stdout",
     "output_type": "stream",
     "text": [
      "__main__\n"
     ]
    }
   ],
   "source": [
    "print(__name__)"
   ]
  },
  {
   "cell_type": "code",
   "execution_count": 28,
   "id": "2c5bd1c4",
   "metadata": {},
   "outputs": [
    {
     "name": "stdout",
     "output_type": "stream",
     "text": [
      " 1 2 3 \n",
      "1 2 5\n",
      "1\n"
     ]
    }
   ],
   "source": [
    "n = set(map(int, input().split()))\n",
    "\n",
    "m =set(map(int, input().split()))\n",
    "#d = set(m)\n",
    "\n",
    "nos  = n.difference(m)\n",
    "print(len(nos)) "
   ]
  },
  {
   "cell_type": "code",
   "execution_count": 39,
   "id": "89821ed4",
   "metadata": {},
   "outputs": [
    {
     "name": "stdout",
     "output_type": "stream",
     "text": [
      "5\n",
      "1 2 3 4 6\n",
      "5\n",
      "1 2 4 6 7\n",
      "1\n"
     ]
    }
   ],
   "source": [
    "n1 = int(input())\n",
    "s1 = set(map(int,input().split()))\n",
    "n2 = int(input())\n",
    "s2 = set(map(int,input().split()))\n",
    "print(len(s1.difference(s2)))"
   ]
  },
  {
   "cell_type": "code",
   "execution_count": null,
   "id": "d9ac209c",
   "metadata": {},
   "outputs": [],
   "source": []
  }
 ],
 "metadata": {
  "kernelspec": {
   "display_name": "Python 3 (ipykernel)",
   "language": "python",
   "name": "python3"
  },
  "language_info": {
   "codemirror_mode": {
    "name": "ipython",
    "version": 3
   },
   "file_extension": ".py",
   "mimetype": "text/x-python",
   "name": "python",
   "nbconvert_exporter": "python",
   "pygments_lexer": "ipython3",
   "version": "3.9.13"
  }
 },
 "nbformat": 4,
 "nbformat_minor": 5
}
